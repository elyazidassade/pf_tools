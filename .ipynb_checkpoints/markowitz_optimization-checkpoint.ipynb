{
 "cells": [
  {
   "cell_type": "code",
   "execution_count": 80,
   "metadata": {},
   "outputs": [
    {
     "name": "stdout",
     "output_type": "stream",
     "text": [
      "The autoreload extension is already loaded. To reload it, use:\n",
      "  %reload_ext autoreload\n"
     ]
    }
   ],
   "source": [
    "import pf_tools as pt\n",
    "%load_ext autoreload\n",
    "%autoreload 2"
   ]
  },
  {
   "cell_type": "code",
   "execution_count": 81,
   "metadata": {},
   "outputs": [],
   "source": [
    "tickers = ['AMZN','AAPL','MSFT', '']\n",
    "start_date = '2019-10-28'\n",
    "\n",
    "portfolio = pt.getPortfolio(tickers, start_date, 'Close')\n",
    "portfolio.head()"
   ]
  },
  {
   "cell_type": "code",
   "execution_count": 84,
   "metadata": {
    "scrolled": false
   },
   "outputs": [],
   "source": [
    "returns = pt.returns(portfolio)"
   ]
  },
  {
   "cell_type": "code",
   "execution_count": 5,
   "metadata": {},
   "outputs": [
    {
     "data": {
      "text/html": [
       "<div>\n",
       "<style scoped>\n",
       "    .dataframe tbody tr th:only-of-type {\n",
       "        vertical-align: middle;\n",
       "    }\n",
       "\n",
       "    .dataframe tbody tr th {\n",
       "        vertical-align: top;\n",
       "    }\n",
       "\n",
       "    .dataframe thead th {\n",
       "        text-align: right;\n",
       "    }\n",
       "</style>\n",
       "<table border=\"1\" class=\"dataframe\">\n",
       "  <thead>\n",
       "    <tr style=\"text-align: right;\">\n",
       "      <th></th>\n",
       "      <th>AMZN</th>\n",
       "      <th>AAPL</th>\n",
       "      <th>MSFT</th>\n",
       "    </tr>\n",
       "    <tr>\n",
       "      <th>Date</th>\n",
       "      <th></th>\n",
       "      <th></th>\n",
       "      <th></th>\n",
       "    </tr>\n",
       "  </thead>\n",
       "  <tbody>\n",
       "    <tr>\n",
       "      <td>2019-10-29</td>\n",
       "      <td>-0.008086</td>\n",
       "      <td>-0.023129</td>\n",
       "      <td>-0.009432</td>\n",
       "    </tr>\n",
       "    <tr>\n",
       "      <td>2019-10-30</td>\n",
       "      <td>0.009803</td>\n",
       "      <td>-0.000164</td>\n",
       "      <td>0.012462</td>\n",
       "    </tr>\n",
       "    <tr>\n",
       "      <td>2019-10-31</td>\n",
       "      <td>-0.001871</td>\n",
       "      <td>0.022694</td>\n",
       "      <td>-0.008575</td>\n",
       "    </tr>\n",
       "    <tr>\n",
       "      <td>2019-11-01</td>\n",
       "      <td>0.008319</td>\n",
       "      <td>0.028461</td>\n",
       "      <td>0.002441</td>\n",
       "    </tr>\n",
       "    <tr>\n",
       "      <td>2019-11-04</td>\n",
       "      <td>0.007380</td>\n",
       "      <td>0.006567</td>\n",
       "      <td>0.005775</td>\n",
       "    </tr>\n",
       "    <tr>\n",
       "      <td>...</td>\n",
       "      <td>...</td>\n",
       "      <td>...</td>\n",
       "      <td>...</td>\n",
       "    </tr>\n",
       "    <tr>\n",
       "      <td>2020-10-22</td>\n",
       "      <td>-0.002681</td>\n",
       "      <td>-0.009583</td>\n",
       "      <td>0.000419</td>\n",
       "    </tr>\n",
       "    <tr>\n",
       "      <td>2020-10-23</td>\n",
       "      <td>0.008815</td>\n",
       "      <td>-0.006134</td>\n",
       "      <td>0.006236</td>\n",
       "    </tr>\n",
       "    <tr>\n",
       "      <td>2020-10-26</td>\n",
       "      <td>0.000824</td>\n",
       "      <td>0.000087</td>\n",
       "      <td>-0.028442</td>\n",
       "    </tr>\n",
       "    <tr>\n",
       "      <td>2020-10-27</td>\n",
       "      <td>0.024724</td>\n",
       "      <td>0.013472</td>\n",
       "      <td>0.015089</td>\n",
       "    </tr>\n",
       "    <tr>\n",
       "      <td>2020-10-28</td>\n",
       "      <td>-0.037595</td>\n",
       "      <td>-0.046312</td>\n",
       "      <td>-0.049566</td>\n",
       "    </tr>\n",
       "  </tbody>\n",
       "</table>\n",
       "<p>253 rows × 3 columns</p>\n",
       "</div>"
      ],
      "text/plain": [
       "                AMZN      AAPL      MSFT\n",
       "Date                                    \n",
       "2019-10-29 -0.008086 -0.023129 -0.009432\n",
       "2019-10-30  0.009803 -0.000164  0.012462\n",
       "2019-10-31 -0.001871  0.022694 -0.008575\n",
       "2019-11-01  0.008319  0.028461  0.002441\n",
       "2019-11-04  0.007380  0.006567  0.005775\n",
       "...              ...       ...       ...\n",
       "2020-10-22 -0.002681 -0.009583  0.000419\n",
       "2020-10-23  0.008815 -0.006134  0.006236\n",
       "2020-10-26  0.000824  0.000087 -0.028442\n",
       "2020-10-27  0.024724  0.013472  0.015089\n",
       "2020-10-28 -0.037595 -0.046312 -0.049566\n",
       "\n",
       "[253 rows x 3 columns]"
      ]
     },
     "execution_count": 5,
     "metadata": {},
     "output_type": "execute_result"
    }
   ],
   "source": [
    "returns"
   ]
  },
  {
   "cell_type": "code",
   "execution_count": 6,
   "metadata": {},
   "outputs": [
    {
     "data": {
      "text/plain": [
       "AMZN    0.779762\n",
       "AAPL    0.786058\n",
       "MSFT    0.405645\n",
       "dtype: float64"
      ]
     },
     "execution_count": 6,
     "metadata": {},
     "output_type": "execute_result"
    }
   ],
   "source": [
    "annualized_rets = pt.annualized_returns(returns, 253)\n",
    "annualized_rets"
   ]
  },
  {
   "cell_type": "code",
   "execution_count": 7,
   "metadata": {
    "scrolled": true
   },
   "outputs": [
    {
     "data": {
      "text/plain": [
       "AMZN    0.368539\n",
       "AAPL    0.453929\n",
       "MSFT    0.430895\n",
       "dtype: float64"
      ]
     },
     "execution_count": 7,
     "metadata": {},
     "output_type": "execute_result"
    }
   ],
   "source": [
    "annualized_vol = pt.annualized_vol(returns, 253)\n",
    "annualized_vol"
   ]
  },
  {
   "cell_type": "code",
   "execution_count": 8,
   "metadata": {},
   "outputs": [],
   "source": [
    "w = [1/3, 1/3, 1/3]\n",
    "cov = returns.cov()"
   ]
  },
  {
   "cell_type": "code",
   "execution_count": 9,
   "metadata": {
    "scrolled": true
   },
   "outputs": [
    {
     "data": {
      "text/plain": [
       "0.6571553667629202"
      ]
     },
     "execution_count": 9,
     "metadata": {},
     "output_type": "execute_result"
    }
   ],
   "source": [
    "pt.portfolio_return(weights=w, returns=annualized_rets)"
   ]
  },
  {
   "cell_type": "code",
   "execution_count": 10,
   "metadata": {},
   "outputs": [
    {
     "data": {
      "text/plain": [
       "0.024098843839933385"
      ]
     },
     "execution_count": 10,
     "metadata": {},
     "output_type": "execute_result"
    }
   ],
   "source": [
    "pt.portfolio_volatility(weights=w, cov = cov)"
   ]
  },
  {
   "cell_type": "code",
   "execution_count": 11,
   "metadata": {
    "scrolled": false
   },
   "outputs": [
    {
     "data": {
      "text/plain": [
       "AMZN    (False, 0.0, 0.973)\n",
       "AAPL    (False, 0.0, 0.923)\n",
       "MSFT    (False, 0.0, 0.893)\n",
       "dtype: object"
      ]
     },
     "execution_count": 11,
     "metadata": {},
     "output_type": "execute_result"
    }
   ],
   "source": [
    "pt.is_normal(returns, level=0.01, test_name='sw')"
   ]
  },
  {
   "cell_type": "code",
   "execution_count": 12,
   "metadata": {},
   "outputs": [
    {
     "data": {
      "text/plain": [
       "AMZN    (False, 0.0, 0.973)\n",
       "AAPL    (False, 0.0, 0.923)\n",
       "dtype: object"
      ]
     },
     "execution_count": 12,
     "metadata": {},
     "output_type": "execute_result"
    }
   ],
   "source": [
    "pt.is_normal(returns[['AMZN','AAPL']], level=0.05, test_name='jb')"
   ]
  },
  {
   "cell_type": "code",
   "execution_count": 13,
   "metadata": {},
   "outputs": [
    {
     "data": {
      "text/plain": [
       "AMZN    0.149471\n",
       "AAPL   -0.062293\n",
       "MSFT   -0.088017\n",
       "dtype: float64"
      ]
     },
     "execution_count": 13,
     "metadata": {},
     "output_type": "execute_result"
    }
   ],
   "source": [
    "pt.skewness(returns)"
   ]
  },
  {
   "cell_type": "code",
   "execution_count": 38,
   "metadata": {},
   "outputs": [
    {
     "name": "stdout",
     "output_type": "stream",
     "text": [
      "historic var :  0.03213308827782961\n",
      "conditional historic var:  0.0021043441889610146\n",
      "gaussian var: 0.03514661677785143\n"
     ]
    }
   ],
   "source": [
    "print(\"historic var : \", pt.historic_var(returns['AMZN'], level=5))\n",
    "print(\"conditional historic var: \",pt.conditional_var_historic(returns['AMZN'], level=5))\n",
    "print(\"gaussian var:\", pt.cornish_fisher_var(returns['AMZN'],level=5))"
   ]
  },
  {
   "cell_type": "code",
   "execution_count": 20,
   "metadata": {},
   "outputs": [
    {
     "data": {
      "text/plain": [
       "670000.0"
      ]
     },
     "execution_count": 20,
     "metadata": {},
     "output_type": "execute_result"
    }
   ],
   "source": [
    "0.01*67000000"
   ]
  },
  {
   "cell_type": "code",
   "execution_count": 158,
   "metadata": {
    "scrolled": true
   },
   "outputs": [
    {
     "data": {
      "text/plain": [
       "<matplotlib.axes._subplots.AxesSubplot at 0x2457cf1c308>"
      ]
     },
     "execution_count": 158,
     "metadata": {},
     "output_type": "execute_result"
    },
    {
     "data": {
      "image/png": "[encoded data removed]",
      "text/plain": [
       "<Figure size 432x288 with 1 Axes>"
      ]
     },
     "metadata": {
      "needs_background": "light"
     },
     "output_type": "display_data"
    }
   ],
   "source": [
    "returns['AMZN'].hist(bins=100)"
   ]
  },
  {
   "cell_type": "code",
   "execution_count": 67,
   "metadata": {},
   "outputs": [],
   "source": [
    "er = pt.annualized_returns(returns,253)\n",
    "covmat = returns.cov()\n",
    "target_return = 0.5"
   ]
  },
  {
   "cell_type": "code",
   "execution_count": 68,
   "metadata": {},
   "outputs": [
    {
     "data": {
      "text/plain": [
       "array([0.25221, 0.     , 0.74779])"
      ]
     },
     "execution_count": 68,
     "metadata": {},
     "output_type": "execute_result"
    }
   ],
   "source": [
    "pt.minimize_volatility(target_return, er, covmat)"
   ]
  },
  {
   "cell_type": "code",
   "execution_count": 70,
   "metadata": {},
   "outputs": [],
   "source": [
    "import numpy as np\n",
    "vols = []\n",
    "rets = np.arange(start=annualized_rets.min(), stop=annualized_rets.max(), step = 0.001)"
   ]
  },
  {
   "cell_type": "code",
   "execution_count": 71,
   "metadata": {},
   "outputs": [],
   "source": [
    "y = []\n",
    "for r in rets:\n",
    "    y.append(pt.minimize_volatility(r, er, covmat))"
   ]
  },
  {
   "cell_type": "code",
   "execution_count": 72,
   "metadata": {},
   "outputs": [],
   "source": [
    "for w in y:\n",
    "    vols.append(pt.portfolio_volatility(w,covmat))"
   ]
  },
  {
   "cell_type": "code",
   "execution_count": 73,
   "metadata": {},
   "outputs": [],
   "source": [
    "import matplotlib.pyplot as plt"
   ]
  },
  {
   "cell_type": "code",
   "execution_count": 74,
   "metadata": {},
   "outputs": [
    {
     "data": {
      "text/plain": [
       "[<matplotlib.lines.Line2D at 0x1f538b9ec48>]"
      ]
     },
     "execution_count": 74,
     "metadata": {},
     "output_type": "execute_result"
    },
    {
     "data": {
      "image/png": "[encoded data removed]",
      "text/plain": [
       "<Figure size 432x720 with 1 Axes>"
      ]
     },
     "metadata": {
      "needs_background": "light"
     },
     "output_type": "display_data"
    }
   ],
   "source": [
    "plt.figure(figsize=(6,10))\n",
    "plt.plot(vols, rets)"
   ]
  },
  {
   "cell_type": "code",
   "execution_count": 75,
   "metadata": {},
   "outputs": [],
   "source": [
    "er = pt.annualized_returns(returns,253)\n",
    "covmat = returns.cov()\n",
    "msr_w = pt.maximum_sharpe_ratio(risk_free_rate=0.03, er=er, covmat=covmat)"
   ]
  },
  {
   "cell_type": "code",
   "execution_count": 76,
   "metadata": {},
   "outputs": [
    {
     "data": {
      "text/plain": [
       "0.7809837613182549"
      ]
     },
     "execution_count": 76,
     "metadata": {},
     "output_type": "execute_result"
    }
   ],
   "source": [
    "pt.portfolio_return(msr_w, er)"
   ]
  },
  {
   "cell_type": "code",
   "execution_count": 77,
   "metadata": {},
   "outputs": [],
   "source": [
    "gmv_w = pt.global_minimum_volatility(er, covmat)"
   ]
  },
  {
   "cell_type": "code",
   "execution_count": 78,
   "metadata": {},
   "outputs": [
    {
     "data": {
      "text/plain": [
       "0.7133457860706294"
      ]
     },
     "execution_count": 78,
     "metadata": {},
     "output_type": "execute_result"
    }
   ],
   "source": [
    "pt.portfolio_return(gmv_w, er)"
   ]
  },
  {
   "cell_type": "code",
   "execution_count": 79,
   "metadata": {},
   "outputs": [
    {
     "data": {
      "text/plain": [
       "0.02276053747602478"
      ]
     },
     "execution_count": 79,
     "metadata": {},
     "output_type": "execute_result"
    }
   ],
   "source": [
    "pt.portfolio_volatility(gmv_w, covmat)"
   ]
  },
  {
   "cell_type": "code",
   "execution_count": 97,
   "metadata": {},
   "outputs": [
    {
     "data": {
      "image/png": "[encoded data removed]",
      "text/plain": [
       "<Figure size 936x432 with 1 Axes>"
      ]
     },
     "metadata": {
      "needs_background": "light"
     },
     "output_type": "display_data"
    }
   ],
   "source": [
    "pt.plot_efficient_frontier(portfolio)"
   ]
  },
  {
   "cell_type": "code",
   "execution_count": 129,
   "metadata": {},
   "outputs": [],
   "source": [
    "# tickers = ['AMD','TWTR','NVDA','AMZN','AAPL','MSFT', 'PG', 'GE','FB','GOOGL','GC=F','^IXIC','DJIA', 'DOW', 'LB', 'EXPE', 'PXD', 'MCHP', 'CRM', 'NRG', 'HFC', 'NOW']\n",
    "tickers = ['GOOG','AMZN','AMZN','AAPL','PG','GE','AMD']\n",
    "start_date = '2019-10-28'\n",
    "\n",
    "portfolio = pt.getPortfolio(tickers, start_date, 'Close')"
   ]
  },
  {
   "cell_type": "code",
   "execution_count": 130,
   "metadata": {},
   "outputs": [
    {
     "data": {
      "text/html": [
       "<div>\n",
       "<style scoped>\n",
       "    .dataframe tbody tr th:only-of-type {\n",
       "        vertical-align: middle;\n",
       "    }\n",
       "\n",
       "    .dataframe tbody tr th {\n",
       "        vertical-align: top;\n",
       "    }\n",
       "\n",
       "    .dataframe thead th {\n",
       "        text-align: right;\n",
       "    }\n",
       "</style>\n",
       "<table border=\"1\" class=\"dataframe\">\n",
       "  <thead>\n",
       "    <tr style=\"text-align: right;\">\n",
       "      <th></th>\n",
       "      <th>GOOG</th>\n",
       "      <th>AMZN</th>\n",
       "      <th>AMZN</th>\n",
       "      <th>AAPL</th>\n",
       "      <th>PG</th>\n",
       "      <th>GE</th>\n",
       "      <th>AMD</th>\n",
       "    </tr>\n",
       "    <tr>\n",
       "      <th>Date</th>\n",
       "      <th></th>\n",
       "      <th></th>\n",
       "      <th></th>\n",
       "      <th></th>\n",
       "      <th></th>\n",
       "      <th></th>\n",
       "      <th></th>\n",
       "    </tr>\n",
       "  </thead>\n",
       "  <tbody>\n",
       "    <tr>\n",
       "      <td>2019-10-28</td>\n",
       "      <td>1290.00</td>\n",
       "      <td>1777.08</td>\n",
       "      <td>1777.08</td>\n",
       "      <td>62.26</td>\n",
       "      <td>123.48</td>\n",
       "      <td>9.07</td>\n",
       "      <td>33.69</td>\n",
       "    </tr>\n",
       "    <tr>\n",
       "      <td>2019-10-29</td>\n",
       "      <td>1262.62</td>\n",
       "      <td>1762.71</td>\n",
       "      <td>1762.71</td>\n",
       "      <td>60.82</td>\n",
       "      <td>123.60</td>\n",
       "      <td>9.07</td>\n",
       "      <td>33.03</td>\n",
       "    </tr>\n",
       "    <tr>\n",
       "      <td>2019-10-30</td>\n",
       "      <td>1261.29</td>\n",
       "      <td>1779.99</td>\n",
       "      <td>1779.99</td>\n",
       "      <td>60.81</td>\n",
       "      <td>124.94</td>\n",
       "      <td>10.11</td>\n",
       "      <td>33.13</td>\n",
       "    </tr>\n",
       "    <tr>\n",
       "      <td>2019-10-31</td>\n",
       "      <td>1260.11</td>\n",
       "      <td>1776.66</td>\n",
       "      <td>1776.66</td>\n",
       "      <td>62.19</td>\n",
       "      <td>124.51</td>\n",
       "      <td>9.98</td>\n",
       "      <td>33.93</td>\n",
       "    </tr>\n",
       "    <tr>\n",
       "      <td>2019-11-01</td>\n",
       "      <td>1273.74</td>\n",
       "      <td>1791.44</td>\n",
       "      <td>1791.44</td>\n",
       "      <td>63.96</td>\n",
       "      <td>123.87</td>\n",
       "      <td>10.38</td>\n",
       "      <td>34.89</td>\n",
       "    </tr>\n",
       "  </tbody>\n",
       "</table>\n",
       "</div>"
      ],
      "text/plain": [
       "               GOOG     AMZN     AMZN   AAPL      PG     GE    AMD\n",
       "Date                                                              \n",
       "2019-10-28  1290.00  1777.08  1777.08  62.26  123.48   9.07  33.69\n",
       "2019-10-29  1262.62  1762.71  1762.71  60.82  123.60   9.07  33.03\n",
       "2019-10-30  1261.29  1779.99  1779.99  60.81  124.94  10.11  33.13\n",
       "2019-10-31  1260.11  1776.66  1776.66  62.19  124.51   9.98  33.93\n",
       "2019-11-01  1273.74  1791.44  1791.44  63.96  123.87  10.38  34.89"
      ]
     },
     "execution_count": 130,
     "metadata": {},
     "output_type": "execute_result"
    }
   ],
   "source": [
    "portfolio.head()"
   ]
  },
  {
   "cell_type": "code",
   "execution_count": 131,
   "metadata": {},
   "outputs": [
    {
     "name": "stdout",
     "output_type": "stream",
     "text": [
      "Maximum Sharpe Ratio portfolio weights [0.    0.317 0.317 0.    0.    0.    0.365]\n",
      "Global minimum Volatility portfolio weights [0.079 0.16  0.16  0.    0.576 0.026 0.   ]\n",
      "Capital Market Line is plotted in purple\n"
     ]
    },
    {
     "data": {
      "image/png": "[encoded data removed]",
      "text/plain": [
       "<Figure size 936x432 with 1 Axes>"
      ]
     },
     "metadata": {
      "needs_background": "light"
     },
     "output_type": "display_data"
    }
   ],
   "source": [
    "pt.plot_efficient_frontier(portfolio)"
   ]
  },
  {
   "cell_type": "code",
   "execution_count": 132,
   "metadata": {},
   "outputs": [],
   "source": [
    "def get_ind_returns():\n",
    "    \"\"\"\n",
    "    Load and format the Ken French 30 Industry Portfolios Value Weighted Monthly Returns\n",
    "    \"\"\"\n",
    "    ind = pd.read_csv(\"C:/Users/Yazid/Desktop/pf_tools/ind30_m_vw_rets.csv\", header=0, index_col=0)/100\n",
    "    ind.index = pd.to_datetime(ind.index, format=\"%Y%m\").to_period('M')\n",
    "    ind.columns = ind.columns.str.strip()\n",
    "    return ind"
   ]
  },
  {
   "cell_type": "code",
   "execution_count": 135,
   "metadata": {},
   "outputs": [],
   "source": [
    "import pandas as pd\n",
    "ind_rets = get_ind_returns()"
   ]
  },
  {
   "cell_type": "code",
   "execution_count": 156,
   "metadata": {},
   "outputs": [],
   "source": [
    "l = [\"Smoke\", \"Fin\", \"Games\", \"Coal\"]\n",
    "e = ind_rets[\"1996\":\"2000\"][l]"
   ]
  },
  {
   "cell_type": "code",
   "execution_count": 157,
   "metadata": {},
   "outputs": [
    {
     "name": "stdout",
     "output_type": "stream",
     "text": [
      "Maximum Sharpe Ratio portfolio weights [0.119 0.638 0.    0.244]\n",
      "Global minimum Volatility portfolio weights [0.252 0.214 0.473 0.062]\n",
      "Capital Market Line is plotted in purple\n"
     ]
    },
    {
     "data": {
      "image/png": "[encoded data removed]",
      "text/plain": [
       "<Figure size 936x432 with 1 Axes>"
      ]
     },
     "metadata": {
      "needs_background": "light"
     },
     "output_type": "display_data"
    }
   ],
   "source": [
    "pt.plot_efficient_frontier(e,period_per_year=12)"
   ]
  },
  {
   "cell_type": "code",
   "execution_count": null,
   "metadata": {},
   "outputs": [],
   "source": []
  }
 ],
 "metadata": {
  "kernelspec": {
   "display_name": "Python 3",
   "language": "python",
   "name": "python3"
  },
  "language_info": {
   "codemirror_mode": {
    "name": "ipython",
    "version": 3
   },
   "file_extension": ".py",
   "mimetype": "text/x-python",
   "name": "python",
   "nbconvert_exporter": "python",
   "pygments_lexer": "ipython3",
   "version": "3.7.4"
  }
 },
 "nbformat": 4,
 "nbformat_minor": 2
}
